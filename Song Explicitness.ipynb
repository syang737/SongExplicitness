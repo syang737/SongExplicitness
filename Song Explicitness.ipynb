{
 "cells": [
  {
   "cell_type": "code",
   "execution_count": 50,
   "metadata": {
    "collapsed": true
   },
   "outputs": [],
   "source": [
    "import requests\n",
    "import re\n",
    "import pandas as pd\n",
    "import matplotlib.pyplot as plt\n",
    "from bs4 import BeautifulSoup\n",
    "import Algorithmia"
   ]
  },
  {
   "cell_type": "code",
   "execution_count": 51,
   "metadata": {
    "collapsed": true
   },
   "outputs": [],
   "source": [
    "base_url = 'http://api.genius.com'\n",
    "genius_id = 'XO--EfuCoziq7UGdadut1RyRIhT9Wg4QyxvXaatsaHdjdAm8_-uKzHc4i8wPgW5F'\n",
    "genius_secret = 'YLbuxciWe8utBFEqgzNKd6UhhhOqIfSGrC763rnGtMedlmiLEnIYB0MJkFLdHYrTL-5le5Z9QH5CVdOUpfa4jw'\n",
    "genius_token = 'l2HmJPxr3YN9uFzKeUy4gPCSYSZnkBtdSd0EJ3vJZbRBBX5evlCm1rp-Q-_X_yFl'"
   ]
  },
  {
   "cell_type": "code",
   "execution_count": 52,
   "metadata": {
    "collapsed": true
   },
   "outputs": [],
   "source": [
    "headers = {\n",
    "    'Authorization': 'Bearer {token}'.format(token=genius_token)\n",
    "}\n",
    "parameters = {\n",
    "    'q': '7/11'\n",
    "}\n",
    "search_url = base_url + '/search'\n",
    "response = requests.get(search_url, params=parameters, headers=headers)"
   ]
  },
  {
   "cell_type": "code",
   "execution_count": 53,
   "metadata": {},
   "outputs": [
    {
     "data": {
      "text/plain": [
       "'/songs/587286'"
      ]
     },
     "execution_count": 53,
     "metadata": {},
     "output_type": "execute_result"
    }
   ],
   "source": [
    "data = response.json()\n",
    "data['response']['hits'][0]['result']['api_path']"
   ]
  },
  {
   "cell_type": "code",
   "execution_count": 54,
   "metadata": {
    "collapsed": true
   },
   "outputs": [],
   "source": [
    "def lyrics_from_song_api_path(song_api_path):\n",
    "  song_url = base_url + song_api_path\n",
    "  response = requests.get(song_url, headers=headers)\n",
    "  json = response.json()\n",
    "  path = json[\"response\"][\"song\"][\"path\"]\n",
    "  #gotta go regular html scraping... come on Genius\n",
    "  page_url = \"http://genius.com\" + path\n",
    "  page = requests.get(page_url)\n",
    "  html = BeautifulSoup(page.text, \"html.parser\")\n",
    "  #remove script tags that they put in the middle of the lyrics\n",
    "  [h.extract() for h in html('script')]\n",
    "  #at least Genius is nice and has a tag called 'lyrics'!\n",
    "  lyrics = html.find('div', class_='lyrics').get_text() #updated css where the lyrics are based in HTML\n",
    "  return lyrics"
   ]
  },
  {
   "cell_type": "code",
   "execution_count": 55,
   "metadata": {
    "collapsed": true
   },
   "outputs": [],
   "source": [
    "lyrics = lyrics_from_song_api_path(data['response']['hits'][0]['result']['api_path'])\n",
    "lyrics = lyrics.replace('\\n', ' ')"
   ]
  },
  {
   "cell_type": "code",
   "execution_count": 56,
   "metadata": {},
   "outputs": [
    {
     "data": {
      "text/plain": [
       "\"  [Pre-Chorus] Shoulders sideways, smack it, smack it in the air Legs movin' side to side, smack it in the air Legs movin' side to side, smack you  in the air Shoulders sideways, smack it, smack it in the air Smack it, smack it in the air, legs movin' side to side Smack it, smack it in the air; smack it, smack it in the air  [Chorus] Wave your hands side to side, put it in the air Wave your hands side to side, put it in the air Clap, clap, clap like you don't care Smack that, clap, clap, clap, like you don't care (I know you care)  [Verse 1] Clap, clap, clap, clap, clap it Foot up, my foot up, hold up now my foot up I'm spinnin' my foot up, foot up yeah my foot up I'm spinnin' my foot up, put my foot down yeah my hands up My hands up, my hands up (flexin') flexin' while my hands up My hands up, my hands up, I stand up with my hands up Then I put up, my hands up, I put up, my hands up I put up, my hands up then I'm spinnin' all my hands up (spinnin') Spinnin' while my hands up (spinnin') spinnin' while my hands up (spinnin') Spinnin' while my hands up then I'm tippin' all my hands up Spinnin', I'm spinnin', I'm spinnin' while my hands up I'm spinnin', I'm spinnin', I'm spinnin' while my hands up (Drank)  [Bridge] Hold that cup like alcohol, oh let go like alcohol Hold that cup like alcohol, don't you drop that alcohol Never drop that alcohol, never drop that alcohol I know you thinkin' about alcohol, I know I'm thinkin' bout that alcohol  [Verse 2] Man this here like rollin' dice, man this here like rollin' dice Seven eleven, seven eleven, seven twice, man seven twice Man it feel like rollin' dice, man this feel like rollin' dice Man it feel like rollin' dice, seven twice, seven twice Girl I'm tryna kick it with ya, girl I'm tryna kick it with ya Man I'm tryna kick it with ya, my feet up, I kick it with ya Man I swear I kick it with ya, girl I wanna kick it with ya Man I know I kick it with ya, yeah I spin around and I kick it with ya  [Pre-Chorus] Shoulders sideways, smack it, smack it in the air Legs movin' side to side, smack it in the air Legs movin' side to side, smack you  in the air Shoulders sideways, smack it, smack it in the air Smack it, smack it in the air, legs movin' side to side Smack it, smack it in the air; smack it, smack it in the air  [Chorus] Wave your hands side to side, put it in the air Wave your hands side to side, put it in the air Clap, clap, clap like you don't care Smack that, clap, clap, clap, like you don't care (I know you care)  [Outro] Wave ya hands side to side Wave ya hands side to side Wave ya hands from side to side Wave ya hands side to side Ooh wee Bey be freaky deaky, think me see she pink bikini Rock that groovy dye dashiki, Nefertiti, edges kinky Sweatin' out my blow out, sweatin' out my presses This trick about to go off, mad cause I'm so fresh Fresher than you, I'm fresher than you Fresher than you, oh  \""
      ]
     },
     "execution_count": 56,
     "metadata": {},
     "output_type": "execute_result"
    }
   ],
   "source": [
    "lyrics"
   ]
  },
  {
   "cell_type": "code",
   "execution_count": 10,
   "metadata": {},
   "outputs": [],
   "source": [
    "input = [\n",
    "    lyrics.lower(),\n",
    "]\n",
    "client = Algorithmia.client('sim75MbSTx0U75XD1VPhjc1rQyX1')\n",
    "algo = client.algo('nlp/ProfanityDetection/1.0.0')\n",
    "swear_dict = algo.pipe(input).result"
   ]
  },
  {
   "cell_type": "code",
   "execution_count": 26,
   "metadata": {},
   "outputs": [],
   "source": [
    "data = {'freq': list(swear_dict.values()), 'words': list(swear_dict.keys())}"
   ]
  },
  {
   "cell_type": "code",
   "execution_count": 39,
   "metadata": {},
   "outputs": [
    {
     "data": {
      "text/plain": [
       "0    bitch\n",
       "1     shit\n",
       "Name: words, dtype: object"
      ]
     },
     "execution_count": 39,
     "metadata": {},
     "output_type": "execute_result"
    }
   ],
   "source": [
    "df = pd.DataFrame.from_dict(data)\n",
    "df['words']"
   ]
  },
  {
   "cell_type": "code",
   "execution_count": 46,
   "metadata": {},
   "outputs": [
    {
     "data": {
      "text/plain": [
       "<matplotlib.axes._subplots.AxesSubplot at 0x121b03c18>"
      ]
     },
     "execution_count": 46,
     "metadata": {},
     "output_type": "execute_result"
    },
    {
     "data": {
      "text/plain": [
       "<Figure size 432x288 with 0 Axes>"
      ]
     },
     "metadata": {},
     "output_type": "display_data"
    },
    {
     "data": {
      "image/png": "[encoded data removed]",
      "text/plain": [
       "<Figure size 432x288 with 1 Axes>"
      ]
     },
     "metadata": {},
     "output_type": "display_data"
    }
   ],
   "source": [
    "fig = plt.figure()\n",
    "df.plot(x='words', y='freq', kind='bar')\n"
   ]
  },
  {
   "cell_type": "code",
   "execution_count": 48,
   "metadata": {},
   "outputs": [
    {
     "name": "stderr",
     "output_type": "stream",
     "text": [
      "/Library/Frameworks/Python.framework/Versions/3.5/lib/python3.5/site-packages/matplotlib/figure.py:448: UserWarning: Matplotlib is currently using module://ipykernel.pylab.backend_inline, which is a non-GUI backend, so cannot show the figure.\n",
      "  % get_backend())\n"
     ]
    }
   ],
   "source": [
    "fig.show()"
   ]
  },
  {
   "cell_type": "code",
   "execution_count": null,
   "metadata": {
    "collapsed": true
   },
   "outputs": [],
   "source": []
  }
 ],
 "metadata": {
  "kernelspec": {
   "display_name": "Python 3",
   "language": "python",
   "name": "python3"
  },
  "language_info": {
   "codemirror_mode": {
    "name": "ipython",
    "version": 3
   },
   "file_extension": ".py",
   "mimetype": "text/x-python",
   "name": "python",
   "nbconvert_exporter": "python",
   "pygments_lexer": "ipython3",
   "version": "3.5.4"
  }
 },
 "nbformat": 4,
 "nbformat_minor": 2
}
